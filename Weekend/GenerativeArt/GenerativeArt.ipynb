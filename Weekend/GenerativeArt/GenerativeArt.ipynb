{
  "nbformat": 4,
  "nbformat_minor": 0,
  "metadata": {
    "colab": {
      "name": "GenerativeArt.ipynb",
      "provenance": []
    },
    "kernelspec": {
      "name": "python3",
      "display_name": "Python 3"
    },
    "language_info": {
      "name": "python"
    },
    "accelerator": "GPU"
  },
  "cells": [
    {
      "cell_type": "code",
      "metadata": {
        "colab": {
          "base_uri": "https://localhost:8080/"
        },
        "id": "K2YorBmGxKYa",
        "outputId": "e96466ec-7e76-4f0d-e5bb-eb55475517f0"
      },
      "source": [
        "!pip install deep-daze"
      ],
      "execution_count": 1,
      "outputs": [
        {
          "output_type": "stream",
          "text": [
            "Collecting deep-daze\n",
            "\u001b[?25l  Downloading https://files.pythonhosted.org/packages/29/09/71b94e64befd8c27df9586648301d8c89230774fc49bd50a4b7a24bae92b/deep_daze-0.9.0-py3-none-any.whl (1.4MB)\n",
            "\u001b[K     |████████████████████████████████| 1.4MB 14.8MB/s \n",
            "\u001b[?25hCollecting einops>=0.3\n",
            "  Downloading https://files.pythonhosted.org/packages/5d/a0/9935e030634bf60ecd572c775f64ace82ceddf2f504a5fd3902438f07090/einops-0.3.0-py2.py3-none-any.whl\n",
            "Collecting imageio>=2.9.0\n",
            "\u001b[?25l  Downloading https://files.pythonhosted.org/packages/6e/57/5d899fae74c1752f52869b613a8210a2480e1a69688e65df6cb26117d45d/imageio-2.9.0-py3-none-any.whl (3.3MB)\n",
            "\u001b[K     |████████████████████████████████| 3.3MB 44.3MB/s \n",
            "\u001b[?25hCollecting fire\n",
            "\u001b[?25l  Downloading https://files.pythonhosted.org/packages/11/07/a119a1aa04d37bc819940d95ed7e135a7dcca1c098123a3764a6dcace9e7/fire-0.4.0.tar.gz (87kB)\n",
            "\u001b[K     |████████████████████████████████| 92kB 12.3MB/s \n",
            "\u001b[?25hCollecting ftfy\n",
            "\u001b[?25l  Downloading https://files.pythonhosted.org/packages/04/06/e5c80e2e0f979628d47345efba51f7ba386fe95963b11c594209085f5a9b/ftfy-5.9.tar.gz (66kB)\n",
            "\u001b[K     |████████████████████████████████| 71kB 10.3MB/s \n",
            "\u001b[?25hCollecting torch-optimizer\n",
            "\u001b[?25l  Downloading https://files.pythonhosted.org/packages/af/0f/bc49a0f714a1896b80f31db9ba82eebcb2bad9e0f5757184574f8ecfe2f1/torch_optimizer-0.1.0-py3-none-any.whl (72kB)\n",
            "\u001b[K     |████████████████████████████████| 81kB 11.8MB/s \n",
            "\u001b[?25hRequirement already satisfied: torchvision>=0.8.2 in /usr/local/lib/python3.7/dist-packages (from deep-daze) (0.9.1+cu101)\n",
            "Requirement already satisfied: tqdm in /usr/local/lib/python3.7/dist-packages (from deep-daze) (4.41.1)\n",
            "Requirement already satisfied: torch>=1.7.1 in /usr/local/lib/python3.7/dist-packages (from deep-daze) (1.8.1+cu101)\n",
            "Requirement already satisfied: regex in /usr/local/lib/python3.7/dist-packages (from deep-daze) (2019.12.20)\n",
            "Collecting siren-pytorch>=0.0.8\n",
            "  Downloading https://files.pythonhosted.org/packages/3b/80/e023803feacfb9ea395c80693bb57f0a58a61699eda8afead5de92796bbb/siren_pytorch-0.0.9-py3-none-any.whl\n",
            "Requirement already satisfied: numpy in /usr/local/lib/python3.7/dist-packages (from imageio>=2.9.0->deep-daze) (1.19.5)\n",
            "Requirement already satisfied: pillow in /usr/local/lib/python3.7/dist-packages (from imageio>=2.9.0->deep-daze) (7.1.2)\n",
            "Requirement already satisfied: six in /usr/local/lib/python3.7/dist-packages (from fire->deep-daze) (1.15.0)\n",
            "Requirement already satisfied: termcolor in /usr/local/lib/python3.7/dist-packages (from fire->deep-daze) (1.1.0)\n",
            "Requirement already satisfied: wcwidth in /usr/local/lib/python3.7/dist-packages (from ftfy->deep-daze) (0.2.5)\n",
            "Collecting pytorch-ranger>=0.1.1\n",
            "  Downloading https://files.pythonhosted.org/packages/0d/70/12256257d861bbc3e176130d25be1de085ce7a9e60594064888a950f2154/pytorch_ranger-0.1.1-py3-none-any.whl\n",
            "Requirement already satisfied: typing-extensions in /usr/local/lib/python3.7/dist-packages (from torch>=1.7.1->deep-daze) (3.7.4.3)\n",
            "Building wheels for collected packages: fire, ftfy\n",
            "  Building wheel for fire (setup.py) ... \u001b[?25l\u001b[?25hdone\n",
            "  Created wheel for fire: filename=fire-0.4.0-py2.py3-none-any.whl size=115928 sha256=624ec4accf9d1d2486898301348575e76f158730234fc6ad35ab4283d7d9d1c0\n",
            "  Stored in directory: /root/.cache/pip/wheels/af/19/30/1ea0cad502dcb4e66ed5a690279628c827aea38bbbab75d5ed\n",
            "  Building wheel for ftfy (setup.py) ... \u001b[?25l\u001b[?25hdone\n",
            "  Created wheel for ftfy: filename=ftfy-5.9-cp37-none-any.whl size=46451 sha256=885b17a4c6de420ffb876510377caaca8257e9992c4c4e2e30bc2a40bba91a00\n",
            "  Stored in directory: /root/.cache/pip/wheels/5e/2e/f0/b07196e8c929114998f0316894a61c752b63bfa3fdd50d2fc3\n",
            "Successfully built fire ftfy\n",
            "\u001b[31mERROR: albumentations 0.1.12 has requirement imgaug<0.2.7,>=0.2.5, but you'll have imgaug 0.2.9 which is incompatible.\u001b[0m\n",
            "Installing collected packages: einops, imageio, fire, ftfy, pytorch-ranger, torch-optimizer, siren-pytorch, deep-daze\n",
            "  Found existing installation: imageio 2.4.1\n",
            "    Uninstalling imageio-2.4.1:\n",
            "      Successfully uninstalled imageio-2.4.1\n",
            "Successfully installed deep-daze-0.9.0 einops-0.3.0 fire-0.4.0 ftfy-5.9 imageio-2.9.0 pytorch-ranger-0.1.1 siren-pytorch-0.0.9 torch-optimizer-0.1.0\n"
          ],
          "name": "stdout"
        }
      ]
    },
    {
      "cell_type": "code",
      "metadata": {
        "colab": {
          "base_uri": "https://localhost:8080/"
        },
        "id": "oUnh3vxjxd0T",
        "outputId": "0c5bc6e6-7569-46a1-8cfc-db83677c876c"
      },
      "source": [
        "!imagine \"a boy\""
      ],
      "execution_count": 2,
      "outputs": [
        {
          "output_type": "stream",
          "text": [
            "\n",
            "loss: -40.09:   7% 77/1050 [01:13<15:05,  1.07it/s]\u001b[A\n",
            "loss: -40.09:   7% 78/1050 [01:13<15:07,  1.07it/s]\u001b[A\n",
            "loss: -41.99:   7% 78/1050 [01:14<15:07,  1.07it/s]\u001b[A\n",
            "loss: -41.99:   8% 79/1050 [01:14<15:11,  1.07it/s]\u001b[A\n",
            "loss: -41.81:   8% 79/1050 [01:15<15:11,  1.07it/s]\u001b[A\n",
            "loss: -41.81:   8% 80/1050 [01:15<15:15,  1.06it/s]\u001b[A\n",
            "loss: -41.87:   8% 80/1050 [01:15<15:15,  1.06it/s]\u001b[A\n",
            "loss: -41.87:   8% 81/1050 [01:15<15:17,  1.06it/s]\u001b[A\n",
            "loss: -41.74:   8% 81/1050 [01:16<15:17,  1.06it/s]\u001b[A\n",
            "loss: -41.74:   8% 82/1050 [01:16<15:12,  1.06it/s]\u001b[A\n",
            "loss: -39.08:   8% 82/1050 [01:17<15:12,  1.06it/s]\u001b[A\n",
            "loss: -39.08:   8% 83/1050 [01:17<15:06,  1.07it/s]\u001b[A\n",
            "loss: -41.65:   8% 83/1050 [01:18<15:06,  1.07it/s]\u001b[A\n",
            "loss: -41.65:   8% 84/1050 [01:18<15:08,  1.06it/s]\u001b[A\n",
            "loss: -39.53:   8% 84/1050 [01:19<15:08,  1.06it/s]\u001b[A\n",
            "loss: -39.53:   8% 85/1050 [01:19<15:04,  1.07it/s]\u001b[Ainterrupted by keyboard, gracefully exiting\n",
            "\n",
            "epochs:  20% 4/20 [1:06:58<4:27:54, 1004.66s/it]\n",
            "loss: -39.53:   8% 85/1050 [01:20<15:13,  1.06it/s]\n"
          ],
          "name": "stdout"
        }
      ]
    },
    {
      "cell_type": "code",
      "metadata": {
        "id": "Djm99m3s07MP"
      },
      "source": [
        ""
      ],
      "execution_count": null,
      "outputs": []
    },
    {
      "cell_type": "code",
      "metadata": {
        "id": "UdQLylHyxjar"
      },
      "source": [
        ""
      ],
      "execution_count": null,
      "outputs": []
    }
  ]
}