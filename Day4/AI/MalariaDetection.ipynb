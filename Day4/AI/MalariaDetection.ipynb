{
  "nbformat": 4,
  "nbformat_minor": 0,
  "metadata": {
    "colab": {
      "name": "MalariaDetectionwithNewImagePrediction.ipynb",
      "provenance": []
    },
    "kernelspec": {
      "name": "python3",
      "display_name": "Python 3"
    },
    "accelerator": "GPU"
  },
  "cells": [
    {
      "cell_type": "code",
      "metadata": {
        "id": "HbqglNYQzlww"
      },
      "source": [
        "from tensorflow.keras.layers import Input , Lambda , Dense , Flatten , Conv2D\n",
        "from tensorflow.keras.models import Model\n",
        "from tensorflow.keras.applications.vgg19 import VGG19\n",
        "from tensorflow.keras.applications.resnet50 import preprocess_input\n",
        "from tensorflow.keras.preprocessing import image\n",
        "from tensorflow.keras.preprocessing.image import ImageDataGenerator , load_img\n",
        "from tensorflow.keras.models import Sequential\n",
        "import numpy as np\n",
        "from glob import glob\n",
        "import matplotlib.pyplot as plt"
      ],
      "execution_count": 1,
      "outputs": []
    },
    {
      "cell_type": "code",
      "metadata": {
        "id": "Hmfit57nzqUf",
        "outputId": "8c54f7cb-d49b-4d8f-ded2-777b0b16c01a",
        "colab": {
          "base_uri": "https://localhost:8080/"
        }
      },
      "source": [
        "from google.colab import drive\n",
        "drive.mount('/content/drive')"
      ],
      "execution_count": 2,
      "outputs": [
        {
          "output_type": "stream",
          "text": [
            "Drive already mounted at /content/drive; to attempt to forcibly remount, call drive.mount(\"/content/drive\", force_remount=True).\n"
          ],
          "name": "stdout"
        }
      ]
    },
    {
      "cell_type": "code",
      "metadata": {
        "id": "FaVKYyPpzvBk"
      },
      "source": [
        "#Resizing all images\n",
        "IMAGE_SIZE = [224,224]\n",
        "\n",
        "train_path = '/content/drive/My Drive/Dataset/Dataset/Train'\n",
        "test_path = '/content/drive/My Drive/Dataset/Dataset/Test'"
      ],
      "execution_count": 3,
      "outputs": []
    },
    {
      "cell_type": "code",
      "metadata": {
        "id": "RMyt9M7xz2V9"
      },
      "source": [
        "#Importing the VGG19 \n",
        "vgg19 = VGG19(input_shape = IMAGE_SIZE +[3] , weights = 'imagenet' , include_top=False )\n",
        "# [3] is RGB channel imgsize = [224,224,3]\n",
        "# imagenet is the Dataset from where weights are taken\n",
        "# include_top = False means discard first and last layer\n",
        "# first layer we will give out own input size\n",
        "# last layer we will take our own output"
      ],
      "execution_count": 4,
      "outputs": []
    },
    {
      "cell_type": "code",
      "metadata": {
        "id": "NRpcFKw7z4J4"
      },
      "source": [
        "#We dont want to retrain the exisitng weights\n",
        "for layer in vgg19.layers:\n",
        "  layer.trainable = False"
      ],
      "execution_count": 5,
      "outputs": []
    },
    {
      "cell_type": "code",
      "metadata": {
        "id": "07u58GpVz6aC"
      },
      "source": [
        "# To get no. of output classes\n",
        "folders = glob('/content/drive/My Drive/Dataset/Dataset/Train/*')"
      ],
      "execution_count": 6,
      "outputs": []
    },
    {
      "cell_type": "code",
      "metadata": {
        "id": "dqBVvJs3z8D1"
      },
      "source": [
        "#We flatten the last layer from vgg19\n",
        "x = Flatten()(vgg19.output)"
      ],
      "execution_count": 7,
      "outputs": []
    },
    {
      "cell_type": "code",
      "metadata": {
        "id": "AUutkdYdz9_F"
      },
      "source": [
        "prediction = Dense(len(folders) ,activation = 'softmax' )(x)\n",
        "# create a model object\n",
        "model = Model(inputs = vgg19.input ,outputs = prediction ) "
      ],
      "execution_count": 8,
      "outputs": []
    },
    {
      "cell_type": "code",
      "metadata": {
        "id": "Gyb5x2AUz_uz",
        "outputId": "48881246-5d60-40d5-a363-c7fe75394eae",
        "colab": {
          "base_uri": "https://localhost:8080/"
        }
      },
      "source": [
        "model.summary()"
      ],
      "execution_count": 9,
      "outputs": [
        {
          "output_type": "stream",
          "text": [
            "Model: \"functional_1\"\n",
            "_________________________________________________________________\n",
            "Layer (type)                 Output Shape              Param #   \n",
            "=================================================================\n",
            "input_1 (InputLayer)         [(None, 224, 224, 3)]     0         \n",
            "_________________________________________________________________\n",
            "block1_conv1 (Conv2D)        (None, 224, 224, 64)      1792      \n",
            "_________________________________________________________________\n",
            "block1_conv2 (Conv2D)        (None, 224, 224, 64)      36928     \n",
            "_________________________________________________________________\n",
            "block1_pool (MaxPooling2D)   (None, 112, 112, 64)      0         \n",
            "_________________________________________________________________\n",
            "block2_conv1 (Conv2D)        (None, 112, 112, 128)     73856     \n",
            "_________________________________________________________________\n",
            "block2_conv2 (Conv2D)        (None, 112, 112, 128)     147584    \n",
            "_________________________________________________________________\n",
            "block2_pool (MaxPooling2D)   (None, 56, 56, 128)       0         \n",
            "_________________________________________________________________\n",
            "block3_conv1 (Conv2D)        (None, 56, 56, 256)       295168    \n",
            "_________________________________________________________________\n",
            "block3_conv2 (Conv2D)        (None, 56, 56, 256)       590080    \n",
            "_________________________________________________________________\n",
            "block3_conv3 (Conv2D)        (None, 56, 56, 256)       590080    \n",
            "_________________________________________________________________\n",
            "block3_conv4 (Conv2D)        (None, 56, 56, 256)       590080    \n",
            "_________________________________________________________________\n",
            "block3_pool (MaxPooling2D)   (None, 28, 28, 256)       0         \n",
            "_________________________________________________________________\n",
            "block4_conv1 (Conv2D)        (None, 28, 28, 512)       1180160   \n",
            "_________________________________________________________________\n",
            "block4_conv2 (Conv2D)        (None, 28, 28, 512)       2359808   \n",
            "_________________________________________________________________\n",
            "block4_conv3 (Conv2D)        (None, 28, 28, 512)       2359808   \n",
            "_________________________________________________________________\n",
            "block4_conv4 (Conv2D)        (None, 28, 28, 512)       2359808   \n",
            "_________________________________________________________________\n",
            "block4_pool (MaxPooling2D)   (None, 14, 14, 512)       0         \n",
            "_________________________________________________________________\n",
            "block5_conv1 (Conv2D)        (None, 14, 14, 512)       2359808   \n",
            "_________________________________________________________________\n",
            "block5_conv2 (Conv2D)        (None, 14, 14, 512)       2359808   \n",
            "_________________________________________________________________\n",
            "block5_conv3 (Conv2D)        (None, 14, 14, 512)       2359808   \n",
            "_________________________________________________________________\n",
            "block5_conv4 (Conv2D)        (None, 14, 14, 512)       2359808   \n",
            "_________________________________________________________________\n",
            "block5_pool (MaxPooling2D)   (None, 7, 7, 512)         0         \n",
            "_________________________________________________________________\n",
            "flatten (Flatten)            (None, 25088)             0         \n",
            "_________________________________________________________________\n",
            "dense (Dense)                (None, 2)                 50178     \n",
            "=================================================================\n",
            "Total params: 20,074,562\n",
            "Trainable params: 50,178\n",
            "Non-trainable params: 20,024,384\n",
            "_________________________________________________________________\n"
          ],
          "name": "stdout"
        }
      ]
    },
    {
      "cell_type": "code",
      "metadata": {
        "id": "mpN9AmCP0BRl"
      },
      "source": [
        "# tell the model what cost and optimization method to use\n",
        "model.compile(\n",
        "  loss='categorical_crossentropy',\n",
        "  optimizer='adam',\n",
        "  metrics=['accuracy']\n",
        ")"
      ],
      "execution_count": 10,
      "outputs": []
    },
    {
      "cell_type": "code",
      "metadata": {
        "id": "eTuez6t90DZK"
      },
      "source": [
        "# Use the Image Data Generator to import the images from the dataset\n",
        "from tensorflow.keras.preprocessing.image import ImageDataGenerator\n",
        "\n",
        "train_datagen = ImageDataGenerator(rescale = 1./255,\n",
        "                                   shear_range = 0.2,\n",
        "                                   zoom_range = 0.2,\n",
        "                                   horizontal_flip = True)\n",
        "\n",
        "test_datagen = ImageDataGenerator(rescale = 1./255)"
      ],
      "execution_count": 11,
      "outputs": []
    },
    {
      "cell_type": "code",
      "metadata": {
        "id": "dNtrxMJh0FK1",
        "outputId": "46343521-5200-45ed-ff20-ea5b81a6ec76",
        "colab": {
          "base_uri": "https://localhost:8080/"
        }
      },
      "source": [
        "# Make sure you provide the same target size as initialied for the image size\n",
        "training_set = train_datagen.flow_from_directory(train_path,\n",
        "                                                 target_size = (224, 224),\n",
        "                                                 batch_size = 32,\n",
        "                                                 class_mode = 'categorical')"
      ],
      "execution_count": 12,
      "outputs": [
        {
          "output_type": "stream",
          "text": [
            "Found 416 images belonging to 2 classes.\n"
          ],
          "name": "stdout"
        }
      ]
    },
    {
      "cell_type": "code",
      "metadata": {
        "id": "3PlSNx9v0G-W",
        "outputId": "4537cd24-3b70-420d-91ff-dc4204f9eaaa",
        "colab": {
          "base_uri": "https://localhost:8080/"
        }
      },
      "source": [
        "test_set = test_datagen.flow_from_directory(test_path,\n",
        "                                            target_size = (224, 224),\n",
        "                                            batch_size = 32,\n",
        "                                            class_mode = 'categorical')"
      ],
      "execution_count": 13,
      "outputs": [
        {
          "output_type": "stream",
          "text": [
            "Found 134 images belonging to 2 classes.\n"
          ],
          "name": "stdout"
        }
      ]
    },
    {
      "cell_type": "code",
      "metadata": {
        "id": "QI19Pfw-0Idb",
        "outputId": "9c2cf30e-63f5-4607-a168-0c56fe81a4f2",
        "colab": {
          "base_uri": "https://localhost:8080/"
        }
      },
      "source": [
        "# fit the model\n",
        "# Run the cell. It will take some time to execute\n",
        "r = model.fit_generator(\n",
        "  training_set,\n",
        "  validation_data=test_set,\n",
        "  epochs=100,\n",
        "  steps_per_epoch=len(training_set),\n",
        "  validation_steps=len(test_set)\n",
        ")"
      ],
      "execution_count": 14,
      "outputs": [
        {
          "output_type": "stream",
          "text": [
            "WARNING:tensorflow:From <ipython-input-14-b195b6f1aa8b>:8: Model.fit_generator (from tensorflow.python.keras.engine.training) is deprecated and will be removed in a future version.\n",
            "Instructions for updating:\n",
            "Please use Model.fit, which supports generators.\n",
            "Epoch 1/100\n",
            "13/13 [==============================] - 6s 459ms/step - loss: 1.6773 - accuracy: 0.4904 - val_loss: 1.7881 - val_accuracy: 0.3358\n",
            "Epoch 2/100\n",
            "13/13 [==============================] - 6s 436ms/step - loss: 0.8507 - accuracy: 0.6226 - val_loss: 0.5272 - val_accuracy: 0.7239\n",
            "Epoch 3/100\n",
            "13/13 [==============================] - 6s 427ms/step - loss: 0.4568 - accuracy: 0.7668 - val_loss: 0.5739 - val_accuracy: 0.6791\n",
            "Epoch 4/100\n",
            "13/13 [==============================] - 5s 419ms/step - loss: 0.3938 - accuracy: 0.8245 - val_loss: 0.6141 - val_accuracy: 0.6791\n",
            "Epoch 5/100\n",
            "13/13 [==============================] - 5s 418ms/step - loss: 0.3379 - accuracy: 0.8582 - val_loss: 0.4032 - val_accuracy: 0.7761\n",
            "Epoch 6/100\n",
            "13/13 [==============================] - 5s 417ms/step - loss: 0.3121 - accuracy: 0.8726 - val_loss: 0.5263 - val_accuracy: 0.7164\n",
            "Epoch 7/100\n",
            "13/13 [==============================] - 5s 419ms/step - loss: 0.2679 - accuracy: 0.9207 - val_loss: 0.3562 - val_accuracy: 0.8433\n",
            "Epoch 8/100\n",
            "13/13 [==============================] - 5s 418ms/step - loss: 0.2515 - accuracy: 0.9279 - val_loss: 0.4370 - val_accuracy: 0.7687\n",
            "Epoch 9/100\n",
            "13/13 [==============================] - 5s 417ms/step - loss: 0.2434 - accuracy: 0.9231 - val_loss: 0.4390 - val_accuracy: 0.7463\n",
            "Epoch 10/100\n",
            "13/13 [==============================] - 5s 415ms/step - loss: 0.2530 - accuracy: 0.8966 - val_loss: 0.3190 - val_accuracy: 0.8507\n",
            "Epoch 11/100\n",
            "13/13 [==============================] - 5s 413ms/step - loss: 0.2256 - accuracy: 0.9183 - val_loss: 0.3108 - val_accuracy: 0.8657\n",
            "Epoch 12/100\n",
            "13/13 [==============================] - 5s 415ms/step - loss: 0.1970 - accuracy: 0.9351 - val_loss: 0.3222 - val_accuracy: 0.8507\n",
            "Epoch 13/100\n",
            "13/13 [==============================] - 5s 413ms/step - loss: 0.1868 - accuracy: 0.9327 - val_loss: 0.3374 - val_accuracy: 0.8358\n",
            "Epoch 14/100\n",
            "13/13 [==============================] - 5s 413ms/step - loss: 0.1915 - accuracy: 0.9447 - val_loss: 0.3207 - val_accuracy: 0.8582\n",
            "Epoch 15/100\n",
            "13/13 [==============================] - 5s 414ms/step - loss: 0.1817 - accuracy: 0.9567 - val_loss: 0.2745 - val_accuracy: 0.9254\n",
            "Epoch 16/100\n",
            "13/13 [==============================] - 5s 419ms/step - loss: 0.1722 - accuracy: 0.9567 - val_loss: 0.3240 - val_accuracy: 0.8507\n",
            "Epoch 17/100\n",
            "13/13 [==============================] - 5s 411ms/step - loss: 0.1765 - accuracy: 0.9423 - val_loss: 0.2688 - val_accuracy: 0.9328\n",
            "Epoch 18/100\n",
            "13/13 [==============================] - 5s 413ms/step - loss: 0.1737 - accuracy: 0.9471 - val_loss: 0.2576 - val_accuracy: 0.9254\n",
            "Epoch 19/100\n",
            "13/13 [==============================] - 5s 415ms/step - loss: 0.1847 - accuracy: 0.9303 - val_loss: 0.3423 - val_accuracy: 0.8433\n",
            "Epoch 20/100\n",
            "13/13 [==============================] - 5s 418ms/step - loss: 0.1571 - accuracy: 0.9471 - val_loss: 0.2519 - val_accuracy: 0.9179\n",
            "Epoch 21/100\n",
            "13/13 [==============================] - 5s 412ms/step - loss: 0.1999 - accuracy: 0.9038 - val_loss: 0.2606 - val_accuracy: 0.9030\n",
            "Epoch 22/100\n",
            "13/13 [==============================] - 5s 412ms/step - loss: 0.1436 - accuracy: 0.9639 - val_loss: 0.2600 - val_accuracy: 0.8806\n",
            "Epoch 23/100\n",
            "13/13 [==============================] - 5s 410ms/step - loss: 0.1457 - accuracy: 0.9543 - val_loss: 0.2696 - val_accuracy: 0.9104\n",
            "Epoch 24/100\n",
            "13/13 [==============================] - 5s 409ms/step - loss: 0.1580 - accuracy: 0.9399 - val_loss: 0.3309 - val_accuracy: 0.8433\n",
            "Epoch 25/100\n",
            "13/13 [==============================] - 5s 408ms/step - loss: 0.1237 - accuracy: 0.9639 - val_loss: 0.3500 - val_accuracy: 0.8284\n",
            "Epoch 26/100\n",
            "13/13 [==============================] - 5s 408ms/step - loss: 0.1444 - accuracy: 0.9495 - val_loss: 0.2425 - val_accuracy: 0.9179\n",
            "Epoch 27/100\n",
            "13/13 [==============================] - 5s 408ms/step - loss: 0.1268 - accuracy: 0.9591 - val_loss: 0.3487 - val_accuracy: 0.8358\n",
            "Epoch 28/100\n",
            "13/13 [==============================] - 5s 408ms/step - loss: 0.1134 - accuracy: 0.9736 - val_loss: 0.2134 - val_accuracy: 0.9328\n",
            "Epoch 29/100\n",
            "13/13 [==============================] - 5s 413ms/step - loss: 0.1202 - accuracy: 0.9688 - val_loss: 0.2291 - val_accuracy: 0.9254\n",
            "Epoch 30/100\n",
            "13/13 [==============================] - 5s 416ms/step - loss: 0.1268 - accuracy: 0.9591 - val_loss: 0.2581 - val_accuracy: 0.9030\n",
            "Epoch 31/100\n",
            "13/13 [==============================] - 5s 412ms/step - loss: 0.1087 - accuracy: 0.9688 - val_loss: 0.2085 - val_accuracy: 0.9478\n",
            "Epoch 32/100\n",
            "13/13 [==============================] - 5s 412ms/step - loss: 0.1542 - accuracy: 0.9591 - val_loss: 0.5110 - val_accuracy: 0.7388\n",
            "Epoch 33/100\n",
            "13/13 [==============================] - 5s 408ms/step - loss: 0.1272 - accuracy: 0.9567 - val_loss: 0.2032 - val_accuracy: 0.9403\n",
            "Epoch 34/100\n",
            "13/13 [==============================] - 5s 410ms/step - loss: 0.1322 - accuracy: 0.9519 - val_loss: 0.2694 - val_accuracy: 0.8806\n",
            "Epoch 35/100\n",
            "13/13 [==============================] - 5s 409ms/step - loss: 0.0965 - accuracy: 0.9760 - val_loss: 0.2075 - val_accuracy: 0.9254\n",
            "Epoch 36/100\n",
            "13/13 [==============================] - 5s 408ms/step - loss: 0.0822 - accuracy: 0.9856 - val_loss: 0.2174 - val_accuracy: 0.9179\n",
            "Epoch 37/100\n",
            "13/13 [==============================] - 5s 412ms/step - loss: 0.0920 - accuracy: 0.9760 - val_loss: 0.1936 - val_accuracy: 0.9328\n",
            "Epoch 38/100\n",
            "13/13 [==============================] - 6s 432ms/step - loss: 0.0883 - accuracy: 0.9808 - val_loss: 0.2637 - val_accuracy: 0.8881\n",
            "Epoch 39/100\n",
            "13/13 [==============================] - 6s 427ms/step - loss: 0.0972 - accuracy: 0.9760 - val_loss: 0.2021 - val_accuracy: 0.9179\n",
            "Epoch 40/100\n",
            "13/13 [==============================] - 5s 411ms/step - loss: 0.0811 - accuracy: 0.9832 - val_loss: 0.2304 - val_accuracy: 0.9030\n",
            "Epoch 41/100\n",
            "13/13 [==============================] - 5s 415ms/step - loss: 0.1040 - accuracy: 0.9591 - val_loss: 0.3872 - val_accuracy: 0.8209\n",
            "Epoch 42/100\n",
            "13/13 [==============================] - 5s 409ms/step - loss: 0.1007 - accuracy: 0.9808 - val_loss: 0.2292 - val_accuracy: 0.9179\n",
            "Epoch 43/100\n",
            "13/13 [==============================] - 5s 418ms/step - loss: 0.0918 - accuracy: 0.9712 - val_loss: 0.3176 - val_accuracy: 0.8507\n",
            "Epoch 44/100\n",
            "13/13 [==============================] - 5s 415ms/step - loss: 0.0777 - accuracy: 0.9856 - val_loss: 0.2370 - val_accuracy: 0.9179\n",
            "Epoch 45/100\n",
            "13/13 [==============================] - 5s 411ms/step - loss: 0.0806 - accuracy: 0.9736 - val_loss: 0.3355 - val_accuracy: 0.8507\n",
            "Epoch 46/100\n",
            "13/13 [==============================] - 5s 413ms/step - loss: 0.0757 - accuracy: 0.9832 - val_loss: 0.2813 - val_accuracy: 0.8881\n",
            "Epoch 47/100\n",
            "13/13 [==============================] - 5s 417ms/step - loss: 0.0694 - accuracy: 0.9856 - val_loss: 0.2371 - val_accuracy: 0.8955\n",
            "Epoch 48/100\n",
            "13/13 [==============================] - 5s 411ms/step - loss: 0.0979 - accuracy: 0.9639 - val_loss: 0.4264 - val_accuracy: 0.7985\n",
            "Epoch 49/100\n",
            "13/13 [==============================] - 5s 413ms/step - loss: 0.0797 - accuracy: 0.9832 - val_loss: 0.2299 - val_accuracy: 0.9030\n",
            "Epoch 50/100\n",
            "13/13 [==============================] - 5s 413ms/step - loss: 0.0700 - accuracy: 0.9856 - val_loss: 0.1939 - val_accuracy: 0.9179\n",
            "Epoch 51/100\n",
            "13/13 [==============================] - 5s 414ms/step - loss: 0.0745 - accuracy: 0.9784 - val_loss: 0.3090 - val_accuracy: 0.8582\n",
            "Epoch 52/100\n",
            "13/13 [==============================] - 5s 416ms/step - loss: 0.0924 - accuracy: 0.9663 - val_loss: 0.5311 - val_accuracy: 0.7612\n",
            "Epoch 53/100\n",
            "13/13 [==============================] - 5s 413ms/step - loss: 0.0928 - accuracy: 0.9712 - val_loss: 0.2011 - val_accuracy: 0.9179\n",
            "Epoch 54/100\n",
            "13/13 [==============================] - 5s 413ms/step - loss: 0.0955 - accuracy: 0.9736 - val_loss: 0.2263 - val_accuracy: 0.8955\n",
            "Epoch 55/100\n",
            "13/13 [==============================] - 5s 411ms/step - loss: 0.0646 - accuracy: 0.9880 - val_loss: 0.2319 - val_accuracy: 0.9104\n",
            "Epoch 56/100\n",
            "13/13 [==============================] - 5s 413ms/step - loss: 0.0787 - accuracy: 0.9808 - val_loss: 0.2954 - val_accuracy: 0.8806\n",
            "Epoch 57/100\n",
            "13/13 [==============================] - 5s 415ms/step - loss: 0.0741 - accuracy: 0.9784 - val_loss: 0.2413 - val_accuracy: 0.9104\n",
            "Epoch 58/100\n",
            "13/13 [==============================] - 5s 413ms/step - loss: 0.0621 - accuracy: 0.9856 - val_loss: 0.2117 - val_accuracy: 0.9179\n",
            "Epoch 59/100\n",
            "13/13 [==============================] - 5s 411ms/step - loss: 0.0614 - accuracy: 0.9856 - val_loss: 0.2377 - val_accuracy: 0.9030\n",
            "Epoch 60/100\n",
            "13/13 [==============================] - 5s 412ms/step - loss: 0.0625 - accuracy: 0.9880 - val_loss: 0.1830 - val_accuracy: 0.9179\n",
            "Epoch 61/100\n",
            "13/13 [==============================] - 5s 414ms/step - loss: 0.0630 - accuracy: 0.9856 - val_loss: 0.3216 - val_accuracy: 0.8433\n",
            "Epoch 62/100\n",
            "13/13 [==============================] - 5s 410ms/step - loss: 0.0549 - accuracy: 0.9880 - val_loss: 0.2795 - val_accuracy: 0.8731\n",
            "Epoch 63/100\n",
            "13/13 [==============================] - 5s 413ms/step - loss: 0.0564 - accuracy: 0.9856 - val_loss: 0.2995 - val_accuracy: 0.8582\n",
            "Epoch 64/100\n",
            "13/13 [==============================] - 5s 411ms/step - loss: 0.0500 - accuracy: 0.9904 - val_loss: 0.2342 - val_accuracy: 0.9104\n",
            "Epoch 65/100\n",
            "13/13 [==============================] - 5s 410ms/step - loss: 0.0560 - accuracy: 0.9880 - val_loss: 0.2477 - val_accuracy: 0.9030\n",
            "Epoch 66/100\n",
            "13/13 [==============================] - 5s 415ms/step - loss: 0.0591 - accuracy: 0.9856 - val_loss: 0.1733 - val_accuracy: 0.9328\n",
            "Epoch 67/100\n",
            "13/13 [==============================] - 5s 411ms/step - loss: 0.0714 - accuracy: 0.9808 - val_loss: 0.2720 - val_accuracy: 0.8881\n",
            "Epoch 68/100\n",
            "13/13 [==============================] - 5s 414ms/step - loss: 0.0631 - accuracy: 0.9784 - val_loss: 0.4576 - val_accuracy: 0.7761\n",
            "Epoch 69/100\n",
            "13/13 [==============================] - 5s 410ms/step - loss: 0.0885 - accuracy: 0.9663 - val_loss: 0.1819 - val_accuracy: 0.9403\n",
            "Epoch 70/100\n",
            "13/13 [==============================] - 5s 420ms/step - loss: 0.0606 - accuracy: 0.9856 - val_loss: 0.1832 - val_accuracy: 0.9179\n",
            "Epoch 71/100\n",
            "13/13 [==============================] - 6s 424ms/step - loss: 0.0556 - accuracy: 0.9832 - val_loss: 0.4129 - val_accuracy: 0.7910\n",
            "Epoch 72/100\n",
            "13/13 [==============================] - 6s 423ms/step - loss: 0.0561 - accuracy: 0.9880 - val_loss: 0.2555 - val_accuracy: 0.8881\n",
            "Epoch 73/100\n",
            "13/13 [==============================] - 5s 413ms/step - loss: 0.0503 - accuracy: 0.9880 - val_loss: 0.2250 - val_accuracy: 0.9104\n",
            "Epoch 74/100\n",
            "13/13 [==============================] - 5s 415ms/step - loss: 0.0454 - accuracy: 0.9904 - val_loss: 0.2811 - val_accuracy: 0.8731\n",
            "Epoch 75/100\n",
            "13/13 [==============================] - 5s 414ms/step - loss: 0.0465 - accuracy: 0.9952 - val_loss: 0.1721 - val_accuracy: 0.9254\n",
            "Epoch 76/100\n",
            "13/13 [==============================] - 5s 411ms/step - loss: 0.0543 - accuracy: 0.9880 - val_loss: 0.1738 - val_accuracy: 0.9254\n",
            "Epoch 77/100\n",
            "13/13 [==============================] - 5s 416ms/step - loss: 0.0678 - accuracy: 0.9832 - val_loss: 0.2568 - val_accuracy: 0.8881\n",
            "Epoch 78/100\n",
            "13/13 [==============================] - 5s 415ms/step - loss: 0.0551 - accuracy: 0.9856 - val_loss: 0.1910 - val_accuracy: 0.9179\n",
            "Epoch 79/100\n",
            "13/13 [==============================] - 5s 417ms/step - loss: 0.0509 - accuracy: 0.9856 - val_loss: 0.3664 - val_accuracy: 0.8060\n",
            "Epoch 80/100\n",
            "13/13 [==============================] - 5s 416ms/step - loss: 0.0484 - accuracy: 0.9880 - val_loss: 0.2027 - val_accuracy: 0.9328\n",
            "Epoch 81/100\n",
            "13/13 [==============================] - 5s 413ms/step - loss: 0.0458 - accuracy: 0.9880 - val_loss: 0.2030 - val_accuracy: 0.9179\n",
            "Epoch 82/100\n",
            "13/13 [==============================] - 5s 419ms/step - loss: 0.0456 - accuracy: 0.9880 - val_loss: 0.1761 - val_accuracy: 0.9179\n",
            "Epoch 83/100\n",
            "13/13 [==============================] - 5s 415ms/step - loss: 0.0503 - accuracy: 0.9808 - val_loss: 0.3103 - val_accuracy: 0.8657\n",
            "Epoch 84/100\n",
            "13/13 [==============================] - 6s 424ms/step - loss: 0.0489 - accuracy: 0.9856 - val_loss: 0.3671 - val_accuracy: 0.8358\n",
            "Epoch 85/100\n",
            "13/13 [==============================] - 5s 421ms/step - loss: 0.0400 - accuracy: 0.9928 - val_loss: 0.5301 - val_accuracy: 0.7761\n",
            "Epoch 86/100\n",
            "13/13 [==============================] - 5s 418ms/step - loss: 0.0526 - accuracy: 0.9856 - val_loss: 0.3020 - val_accuracy: 0.8657\n",
            "Epoch 87/100\n",
            "13/13 [==============================] - 5s 416ms/step - loss: 0.0640 - accuracy: 0.9856 - val_loss: 0.2103 - val_accuracy: 0.9403\n",
            "Epoch 88/100\n",
            "13/13 [==============================] - 5s 420ms/step - loss: 0.0937 - accuracy: 0.9639 - val_loss: 0.3104 - val_accuracy: 0.8657\n",
            "Epoch 89/100\n",
            "13/13 [==============================] - 5s 423ms/step - loss: 0.0470 - accuracy: 0.9832 - val_loss: 0.2045 - val_accuracy: 0.9030\n",
            "Epoch 90/100\n",
            "13/13 [==============================] - 5s 423ms/step - loss: 0.0559 - accuracy: 0.9880 - val_loss: 0.2655 - val_accuracy: 0.8806\n",
            "Epoch 91/100\n",
            "13/13 [==============================] - 6s 432ms/step - loss: 0.0536 - accuracy: 0.9832 - val_loss: 0.3095 - val_accuracy: 0.8582\n",
            "Epoch 92/100\n",
            "13/13 [==============================] - 6s 426ms/step - loss: 0.0555 - accuracy: 0.9808 - val_loss: 0.1942 - val_accuracy: 0.8955\n",
            "Epoch 93/100\n",
            "13/13 [==============================] - 5s 418ms/step - loss: 0.0667 - accuracy: 0.9784 - val_loss: 0.1973 - val_accuracy: 0.9030\n",
            "Epoch 94/100\n",
            "13/13 [==============================] - 5s 418ms/step - loss: 0.0396 - accuracy: 0.9952 - val_loss: 0.2797 - val_accuracy: 0.8657\n",
            "Epoch 95/100\n",
            "13/13 [==============================] - 5s 420ms/step - loss: 0.0296 - accuracy: 0.9976 - val_loss: 0.2805 - val_accuracy: 0.8657\n",
            "Epoch 96/100\n",
            "13/13 [==============================] - 5s 420ms/step - loss: 0.0421 - accuracy: 0.9928 - val_loss: 0.2466 - val_accuracy: 0.8955\n",
            "Epoch 97/100\n",
            "13/13 [==============================] - 5s 419ms/step - loss: 0.0386 - accuracy: 0.9928 - val_loss: 0.5381 - val_accuracy: 0.7761\n",
            "Epoch 98/100\n",
            "13/13 [==============================] - 6s 427ms/step - loss: 0.0687 - accuracy: 0.9784 - val_loss: 0.1717 - val_accuracy: 0.9179\n",
            "Epoch 99/100\n",
            "13/13 [==============================] - 6s 424ms/step - loss: 0.0566 - accuracy: 0.9808 - val_loss: 0.1783 - val_accuracy: 0.9254\n",
            "Epoch 100/100\n",
            "13/13 [==============================] - 5s 421ms/step - loss: 0.0340 - accuracy: 0.9952 - val_loss: 0.4034 - val_accuracy: 0.8060\n"
          ],
          "name": "stdout"
        }
      ]
    },
    {
      "cell_type": "code",
      "metadata": {
        "id": "5Ls-QZ-_0KPk",
        "outputId": "17164739-6fb1-44a0-ce57-d7f8b28f9eea",
        "colab": {
          "base_uri": "https://localhost:8080/",
          "height": 530
        }
      },
      "source": [
        "# plot the loss\n",
        "plt.plot(r.history['loss'], label='train loss')\n",
        "plt.plot(r.history['val_loss'], label='val loss')\n",
        "plt.legend()\n",
        "plt.show()\n",
        "plt.savefig('LossVal_loss')\n",
        "\n",
        "# plot the accuracy\n",
        "plt.plot(r.history['accuracy'], label='train acc')\n",
        "plt.plot(r.history['val_accuracy'], label='val acc')\n",
        "plt.legend()\n",
        "plt.show()\n",
        "plt.savefig('AccVal_acc')"
      ],
      "execution_count": 15,
      "outputs": [
        {
          "output_type": "display_data",
          "data": {
            "image/png": "[encoded data removed]",
            "text/plain": [
              "<Figure size 432x288 with 1 Axes>"
            ]
          },
          "metadata": {
            "tags": [],
            "needs_background": "light"
          }
        },
        {
          "output_type": "display_data",
          "data": {
            "image/png": "[encoded data removed]",
            "text/plain": [
              "<Figure size 432x288 with 1 Axes>"
            ]
          },
          "metadata": {
            "tags": [],
            "needs_background": "light"
          }
        },
        {
          "output_type": "display_data",
          "data": {
            "text/plain": [
              "<Figure size 432x288 with 0 Axes>"
            ]
          },
          "metadata": {
            "tags": []
          }
        }
      ]
    },
    {
      "cell_type": "code",
      "metadata": {
        "id": "h51zxjrc7pjc",
        "outputId": "60191d77-423a-47d5-eb4f-67eaa20c5bd5",
        "colab": {
          "base_uri": "https://localhost:8080/"
        }
      },
      "source": [
        "# To predict new data\n",
        "from tensorflow.keras.models import load_model\n",
        "\n",
        "model.save('model_vgg19.h5')\n",
        "\n",
        "from tensorflow.keras.models import load_model\n",
        "from tensorflow.keras.preprocessing import image\n",
        "\n",
        "img=image.load_img(test_path+'/Uninfected/2.png',target_size=(224,224))\n",
        "\n",
        "x=image.img_to_array(img)\n",
        "x=x/255\n",
        "x=np.expand_dims(x,axis=0)\n",
        "img_data=preprocess_input(x)\n",
        "model.predict(img_data)\n",
        "a=np.argmax(model.predict(img_data), axis=1)\n",
        "if(a==1):\n",
        "    print(\"Uninfected\")\n",
        "else:\n",
        "    print(\"Infected\")"
      ],
      "execution_count": 18,
      "outputs": [
        {
          "output_type": "stream",
          "text": [
            "Uninfected\n"
          ],
          "name": "stdout"
        }
      ]
    },
    {
      "cell_type": "code",
      "metadata": {
        "id": "tjwXRlHzBOO1"
      },
      "source": [
        ""
      ],
      "execution_count": null,
      "outputs": []
    }
  ]
}